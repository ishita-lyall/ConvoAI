{
  "nbformat": 4,
  "nbformat_minor": 0,
  "metadata": {
    "colab": {
      "name": "StockPrediction.ipynb",
      "provenance": []
    },
    "kernelspec": {
      "name": "python3",
      "display_name": "Python 3"
    },
    "language_info": {
      "name": "python"
    },
    "accelerator": "GPU"
  },
  "cells": [
    {
      "cell_type": "markdown",
      "source": [
        "\n",
        "*   Name: Ishita Lyall\n",
        "*   Roll no: 101903127\n",
        "*   Group: 3COE15"
      ],
      "metadata": {
        "id": "ZUvIZ5x4k1q_"
      }
    },
    {
      "cell_type": "markdown",
      "source": [
        "*   Challenge: Predict the closing price of NASDAQ of the last trading day in 2021\n",
        "*   Using LSTM and GRU RNN models to predcict NASDAQ price\n",
        "*   Link of kaggle challenge: https://www.kaggle.com/c/110-1-ntut-dl-app-hw3/overview\n",
        "\n",
        "\n",
        "\n",
        "\n",
        "\n"
      ],
      "metadata": {
        "id": "sr3Ew3Cvn9Ic"
      }
    },
    {
      "cell_type": "code",
      "source": [
        "!nvidia-smi"
      ],
      "metadata": {
        "id": "ZWjrQNW5wpMc"
      },
      "execution_count": null,
      "outputs": []
    },
    {
      "cell_type": "code",
      "source": [
        "import numpy as np \n",
        "import pandas as pd \n",
        "import matplotlib.pylab as plt\n",
        "\n",
        "import cuml\n",
        "import cupy as cp\n",
        "import cudf\n",
        "\n",
        "from sklearn.preprocessing import MinMaxScaler\n",
        "from keras.models import Sequential\n",
        "from keras.layers import Dense\n",
        "from keras.layers import LSTM, GRU  #Using RNN models\n",
        "from keras.layers import Dropout"
      ],
      "metadata": {
        "id": "CqHadi2O5K9a"
      },
      "execution_count": 1,
      "outputs": []
    },
    {
      "cell_type": "code",
      "source": [
        "data_file = 'IXIC.csv'\n",
        "df = pd.read_csv(data_file)\n",
        "df.head()"
      ],
      "metadata": {
        "colab": {
          "base_uri": "https://localhost:8080/",
          "height": 206
        },
        "id": "q7-J_GwA5Rxt",
        "outputId": "41ab7cf6-9f95-47de-8948-ef4677063d13"
      },
      "execution_count": 44,
      "outputs": [
        {
          "output_type": "execute_result",
          "data": {
            "text/plain": [
              "         Date        Open        High         Low       Close   Adj Close  \\\n",
              "0  1971-02-05  100.000000  100.000000  100.000000  100.000000  100.000000   \n",
              "1  1971-02-08  100.839996  100.839996  100.839996  100.839996  100.839996   \n",
              "2  1971-02-09  100.760002  100.760002  100.760002  100.760002  100.760002   \n",
              "3  1971-02-10  100.690002  100.690002  100.690002  100.690002  100.690002   \n",
              "4  1971-02-11  101.449997  101.449997  101.449997  101.449997  101.449997   \n",
              "\n",
              "   Volume  \n",
              "0       0  \n",
              "1       0  \n",
              "2       0  \n",
              "3       0  \n",
              "4       0  "
            ],
            "text/html": [
              "\n",
              "  <div id=\"df-2154b008-9a42-4eed-a42a-26d5f21cdd9f\">\n",
              "    <div class=\"colab-df-container\">\n",
              "      <div>\n",
              "<style scoped>\n",
              "    .dataframe tbody tr th:only-of-type {\n",
              "        vertical-align: middle;\n",
              "    }\n",
              "\n",
              "    .dataframe tbody tr th {\n",
              "        vertical-align: top;\n",
              "    }\n",
              "\n",
              "    .dataframe thead th {\n",
              "        text-align: right;\n",
              "    }\n",
              "</style>\n",
              "<table border=\"1\" class=\"dataframe\">\n",
              "  <thead>\n",
              "    <tr style=\"text-align: right;\">\n",
              "      <th></th>\n",
              "      <th>Date</th>\n",
              "      <th>Open</th>\n",
              "      <th>High</th>\n",
              "      <th>Low</th>\n",
              "      <th>Close</th>\n",
              "      <th>Adj Close</th>\n",
              "      <th>Volume</th>\n",
              "    </tr>\n",
              "  </thead>\n",
              "  <tbody>\n",
              "    <tr>\n",
              "      <th>0</th>\n",
              "      <td>1971-02-05</td>\n",
              "      <td>100.000000</td>\n",
              "      <td>100.000000</td>\n",
              "      <td>100.000000</td>\n",
              "      <td>100.000000</td>\n",
              "      <td>100.000000</td>\n",
              "      <td>0</td>\n",
              "    </tr>\n",
              "    <tr>\n",
              "      <th>1</th>\n",
              "      <td>1971-02-08</td>\n",
              "      <td>100.839996</td>\n",
              "      <td>100.839996</td>\n",
              "      <td>100.839996</td>\n",
              "      <td>100.839996</td>\n",
              "      <td>100.839996</td>\n",
              "      <td>0</td>\n",
              "    </tr>\n",
              "    <tr>\n",
              "      <th>2</th>\n",
              "      <td>1971-02-09</td>\n",
              "      <td>100.760002</td>\n",
              "      <td>100.760002</td>\n",
              "      <td>100.760002</td>\n",
              "      <td>100.760002</td>\n",
              "      <td>100.760002</td>\n",
              "      <td>0</td>\n",
              "    </tr>\n",
              "    <tr>\n",
              "      <th>3</th>\n",
              "      <td>1971-02-10</td>\n",
              "      <td>100.690002</td>\n",
              "      <td>100.690002</td>\n",
              "      <td>100.690002</td>\n",
              "      <td>100.690002</td>\n",
              "      <td>100.690002</td>\n",
              "      <td>0</td>\n",
              "    </tr>\n",
              "    <tr>\n",
              "      <th>4</th>\n",
              "      <td>1971-02-11</td>\n",
              "      <td>101.449997</td>\n",
              "      <td>101.449997</td>\n",
              "      <td>101.449997</td>\n",
              "      <td>101.449997</td>\n",
              "      <td>101.449997</td>\n",
              "      <td>0</td>\n",
              "    </tr>\n",
              "  </tbody>\n",
              "</table>\n",
              "</div>\n",
              "      <button class=\"colab-df-convert\" onclick=\"convertToInteractive('df-2154b008-9a42-4eed-a42a-26d5f21cdd9f')\"\n",
              "              title=\"Convert this dataframe to an interactive table.\"\n",
              "              style=\"display:none;\">\n",
              "        \n",
              "  <svg xmlns=\"http://www.w3.org/2000/svg\" height=\"24px\"viewBox=\"0 0 24 24\"\n",
              "       width=\"24px\">\n",
              "    <path d=\"M0 0h24v24H0V0z\" fill=\"none\"/>\n",
              "    <path d=\"M18.56 5.44l.94 2.06.94-2.06 2.06-.94-2.06-.94-.94-2.06-.94 2.06-2.06.94zm-11 1L8.5 8.5l.94-2.06 2.06-.94-2.06-.94L8.5 2.5l-.94 2.06-2.06.94zm10 10l.94 2.06.94-2.06 2.06-.94-2.06-.94-.94-2.06-.94 2.06-2.06.94z\"/><path d=\"M17.41 7.96l-1.37-1.37c-.4-.4-.92-.59-1.43-.59-.52 0-1.04.2-1.43.59L10.3 9.45l-7.72 7.72c-.78.78-.78 2.05 0 2.83L4 21.41c.39.39.9.59 1.41.59.51 0 1.02-.2 1.41-.59l7.78-7.78 2.81-2.81c.8-.78.8-2.07 0-2.86zM5.41 20L4 18.59l7.72-7.72 1.47 1.35L5.41 20z\"/>\n",
              "  </svg>\n",
              "      </button>\n",
              "      \n",
              "  <style>\n",
              "    .colab-df-container {\n",
              "      display:flex;\n",
              "      flex-wrap:wrap;\n",
              "      gap: 12px;\n",
              "    }\n",
              "\n",
              "    .colab-df-convert {\n",
              "      background-color: #E8F0FE;\n",
              "      border: none;\n",
              "      border-radius: 50%;\n",
              "      cursor: pointer;\n",
              "      display: none;\n",
              "      fill: #1967D2;\n",
              "      height: 32px;\n",
              "      padding: 0 0 0 0;\n",
              "      width: 32px;\n",
              "    }\n",
              "\n",
              "    .colab-df-convert:hover {\n",
              "      background-color: #E2EBFA;\n",
              "      box-shadow: 0px 1px 2px rgba(60, 64, 67, 0.3), 0px 1px 3px 1px rgba(60, 64, 67, 0.15);\n",
              "      fill: #174EA6;\n",
              "    }\n",
              "\n",
              "    [theme=dark] .colab-df-convert {\n",
              "      background-color: #3B4455;\n",
              "      fill: #D2E3FC;\n",
              "    }\n",
              "\n",
              "    [theme=dark] .colab-df-convert:hover {\n",
              "      background-color: #434B5C;\n",
              "      box-shadow: 0px 1px 3px 1px rgba(0, 0, 0, 0.15);\n",
              "      filter: drop-shadow(0px 1px 2px rgba(0, 0, 0, 0.3));\n",
              "      fill: #FFFFFF;\n",
              "    }\n",
              "  </style>\n",
              "\n",
              "      <script>\n",
              "        const buttonEl =\n",
              "          document.querySelector('#df-2154b008-9a42-4eed-a42a-26d5f21cdd9f button.colab-df-convert');\n",
              "        buttonEl.style.display =\n",
              "          google.colab.kernel.accessAllowed ? 'block' : 'none';\n",
              "\n",
              "        async function convertToInteractive(key) {\n",
              "          const element = document.querySelector('#df-2154b008-9a42-4eed-a42a-26d5f21cdd9f');\n",
              "          const dataTable =\n",
              "            await google.colab.kernel.invokeFunction('convertToInteractive',\n",
              "                                                     [key], {});\n",
              "          if (!dataTable) return;\n",
              "\n",
              "          const docLinkHtml = 'Like what you see? Visit the ' +\n",
              "            '<a target=\"_blank\" href=https://colab.research.google.com/notebooks/data_table.ipynb>data table notebook</a>'\n",
              "            + ' to learn more about interactive tables.';\n",
              "          element.innerHTML = '';\n",
              "          dataTable['output_type'] = 'display_data';\n",
              "          await google.colab.output.renderOutput(dataTable, element);\n",
              "          const docLink = document.createElement('div');\n",
              "          docLink.innerHTML = docLinkHtml;\n",
              "          element.appendChild(docLink);\n",
              "        }\n",
              "      </script>\n",
              "    </div>\n",
              "  </div>\n",
              "  "
            ]
          },
          "metadata": {},
          "execution_count": 44
        }
      ]
    },
    {
      "cell_type": "code",
      "source": [
        "dateparse = lambda dates: pd.datetime.strptime(dates, '%Y-%m-%d')\n",
        "data = pd.read_csv(data_file, sep=',', parse_dates=['Date'], index_col='Date',date_parser=dateparse)\n",
        "#data = data.loc['2012-11-10':'2017-11-10']\n",
        "plt.figure(figsize=(16,8))\n",
        "plt.grid(True)\n",
        "plt.xlabel('Dates')\n",
        "plt.ylabel('Closing Prices')\n",
        "plt.plot(data['Close']);"
      ],
      "metadata": {
        "colab": {
          "base_uri": "https://localhost:8080/",
          "height": 552
        },
        "id": "xGlbQDC66e54",
        "outputId": "6f62bfcd-6729-4671-aef4-57b3dd5b37af"
      },
      "execution_count": 3,
      "outputs": [
        {
          "output_type": "stream",
          "name": "stderr",
          "text": [
            "/usr/local/lib/python3.7/dist-packages/ipykernel_launcher.py:1: FutureWarning: The pandas.datetime class is deprecated and will be removed from pandas in a future version. Import from datetime module instead.\n",
            "  \"\"\"Entry point for launching an IPython kernel.\n"
          ]
        },
        {
          "output_type": "display_data",
          "data": {
            "text/plain": [
              "<Figure size 1152x576 with 1 Axes>"
            ],
            "image/png": "[encoded data removed]"
          },
          "metadata": {
            "needs_background": "light"
          }
        }
      ]
    },
    {
      "cell_type": "code",
      "source": [
        "# Splitting the data into training and testing data\n",
        "train_start_idx = -5000\n",
        "train_end_idx = -500\n",
        "\n",
        "print('Training data range: ', df.iloc[train_start_idx]['Date'], ' - ', df.iloc[train_end_idx]['Date'])"
      ],
      "metadata": {
        "colab": {
          "base_uri": "https://localhost:8080/"
        },
        "id": "shyHx3516luM",
        "outputId": "10dc0a3c-8903-43a7-a7d0-940fb8fb2646"
      },
      "execution_count": 4,
      "outputs": [
        {
          "output_type": "stream",
          "name": "stdout",
          "text": [
            "Training data range:  2002-01-31  -  2019-12-16\n"
          ]
        }
      ]
    },
    {
      "cell_type": "code",
      "source": [
        "train_data = df[train_start_idx:train_end_idx].drop(columns=['Date']).to_numpy()\n",
        "test_data = df[-500:].drop(columns=['Date']).to_numpy()\n",
        "print(df.iloc[train_start_idx])\n",
        "#Converting stock data into a numpy tensor\n",
        "\n",
        "print(train_data[0])\n"
      ],
      "metadata": {
        "colab": {
          "base_uri": "https://localhost:8080/"
        },
        "id": "EYPhLwEa6549",
        "outputId": "2c8359df-da02-438a-8acb-3114e9309753"
      },
      "execution_count": 26,
      "outputs": [
        {
          "output_type": "stream",
          "name": "stdout",
          "text": [
            "Date          2002-01-31\n",
            "Open         1924.560059\n",
            "High         1935.170044\n",
            "Low          1906.900024\n",
            "Close        1934.030029\n",
            "Adj Close    1934.030029\n",
            "Volume        1803530000\n",
            "Name: 7824, dtype: object\n",
            "[1.92456006e+03 1.93517004e+03 1.90690002e+03 1.93403003e+03\n",
            " 1.93403003e+03 1.80353000e+09]\n"
          ]
        }
      ]
    },
    {
      "cell_type": "code",
      "source": [
        "# 1. Based on Keras Time Series Data Generator.\n",
        "# 2. normalization: Use the beginning price of a sample price series to normalize data\n",
        "# 3. target_index: The index of target value (label). The target is Adjusted closed price (index: -2) \n",
        "\n",
        "def generator(data, lookback, delay, min_index=0, max_index=None, shuffle=False, \n",
        "              batch_size=128, step=1, target_index=-2, normalize=True):\n",
        "    if max_index is None:\n",
        "        max_index = len(data) - delay - 1\n",
        "    i = min_index + lookback\n",
        "    while 1:\n",
        "        if shuffle:\n",
        "            rows = np.random.randint(min_index + lookback, max_index, size=batch_size)\n",
        "        else:\n",
        "            if i + batch_size >= max_index:\n",
        "                i = min_index + lookback\n",
        "            rows = np.arange(i, min(i + batch_size, max_index))\n",
        "            i += len(rows)\n",
        "        samples = np.zeros((len(rows), lookback // step, data.shape[-1]))\n",
        "        targets = np.zeros((len(rows),))\n",
        "        for j, row in enumerate(rows):\n",
        "            indices = range(rows[j] - lookback, rows[j], step)\n",
        "            if normalize:\n",
        "                ## Normalization\n",
        "                norm = data[rows[j] - lookback]\n",
        "                samples[j] = data[indices] / norm\n",
        "                targets[j] = data[rows[j] + delay][target_index] / norm[target_index]\n",
        "            else:\n",
        "                samples[j] = data[indices]\n",
        "                targets[j] = data[rows[j] + delay][target_index]\n",
        "        yield samples, targets"
      ],
      "metadata": {
        "id": "aNO0BySe7U5r"
      },
      "execution_count": 6,
      "outputs": []
    },
    {
      "cell_type": "code",
      "source": [
        "lookback = 20        # Using last 20 trading days as input data\n",
        "step = 1\n",
        "delay = 15           # Prdicting the price in 15 days(15 days after 8Dec,21 is 23Dec,21 which is the last trading day)\n",
        "batch_size = 10 \n",
        "target_idx = -2     # The 2nd last column (Adj Close) is our target prediction\n",
        "num_val_data = 100  # Use 100 days as validation data \n",
        "\n",
        "train_gen = generator(train_data[0: ],\n",
        "                      lookback=lookback,\n",
        "                      delay=delay,\n",
        "                      max_index= len(train_data) - num_val_data - 1,\n",
        "                      step=step, \n",
        "                      normalize=True,\n",
        "                      target_index = target_idx,\n",
        "                      batch_size=batch_size)\n",
        "\n",
        "val_gen = generator(train_data,\n",
        "                      lookback=lookback,\n",
        "                      delay=delay,\n",
        "                      step=step, \n",
        "                      min_index= len(train_data) - num_val_data,\n",
        "                      normalize=True,\n",
        "                      target_index = target_idx,\n",
        "                      batch_size=batch_size)\n",
        "val_steps = (num_val_data - lookback) // batch_size"
      ],
      "metadata": {
        "id": "Espc9ouT7875"
      },
      "execution_count": 34,
      "outputs": []
    },
    {
      "cell_type": "code",
      "source": [
        "# Training samples\n",
        "\n",
        "for samples, targets in train_gen:\n",
        "    print(samples)\n",
        "    print(targets)\n",
        "    break"
      ],
      "metadata": {
        "colab": {
          "base_uri": "https://localhost:8080/"
        },
        "id": "8dThm3dF8GHd",
        "outputId": "e9ef1cc5-4ea8-42fc-a5b1-a249549238bd"
      },
      "execution_count": 35,
      "outputs": [
        {
          "output_type": "stream",
          "name": "stdout",
          "text": [
            "[[[1.         1.         1.         1.         1.         1.        ]\n",
            "  [1.00221864 1.00360691 0.99701607 0.9882163  0.9882163  0.94814059]\n",
            "  [0.99117715 0.98574281 0.96970475 0.95941118 0.95941118 0.98641553]\n",
            "  ...\n",
            "  [0.92360851 0.92433738 0.91790863 0.91356388 0.91356388 0.92625573]\n",
            "  [0.9265962  0.92691078 0.91325185 0.90581841 0.90581841 1.01103946]\n",
            "  [0.91414656 0.91630188 0.90652368 0.89527565 0.89527565 1.07324525]]\n",
            "\n",
            " [[1.         1.         1.         1.         1.         1.        ]\n",
            "  [0.98898296 0.9822001  0.97260694 0.9708514  0.9708514  1.04036842]\n",
            "  [0.95634143 0.96178973 0.96184539 0.96195142 0.96195142 1.23208772]\n",
            "  ...\n",
            "  [0.92454497 0.92357952 0.91598509 0.91661958 0.91661958 1.06633918]\n",
            "  [0.91212289 0.91300874 0.90923678 0.90595111 0.90595111 1.13194737]\n",
            "  [0.90494757 0.92829596 0.91630067 0.94323057 0.94323057 1.1125848 ]]\n",
            "\n",
            " [[1.         1.         1.         1.         1.         1.        ]\n",
            "  [0.96699485 0.97921974 0.98893536 0.9908328  0.9908328  1.1842802 ]\n",
            "  [0.97145601 0.97145601 0.97614013 0.976923   0.976923   1.18349887]\n",
            "  ...\n",
            "  [0.92228373 0.92955472 0.93484505 0.93315116 0.93315116 1.0880255 ]\n",
            "  [0.91502848 0.94511898 0.94210788 0.97154989 0.97154989 1.06941423]\n",
            "  [0.94343624 0.97491063 0.96787136 1.0020425  1.0020425  1.29150717]]\n",
            "\n",
            " ...\n",
            "\n",
            " [[1.         1.         1.         1.         1.         1.        ]\n",
            "  [1.00692928 1.00286417 1.00096399 0.99325806 0.99325806 1.03632982]\n",
            "  [1.01532802 1.00838689 1.01583139 1.00676898 1.00676898 1.02294818]\n",
            "  ...\n",
            "  [1.04749747 1.03452751 1.0273662  1.01893688 1.01893688 1.21303273]\n",
            "  [1.05016678 1.04773322 1.05106918 1.04495143 1.04495143 1.31606628]\n",
            "  [1.05657316 1.05376485 1.04987939 1.04485393 1.04485393 1.12724705]]\n",
            "\n",
            " [[1.         1.         1.         1.         1.         1.        ]\n",
            "  [1.00834095 1.00550694 1.01485309 1.01360263 1.01360263 0.98708746]\n",
            "  [1.01855118 1.01377807 1.01301504 1.00499399 1.00499399 1.03559889]\n",
            "  ...\n",
            "  [1.04293995 1.0447409  1.05005694 1.05204425 1.05204425 1.26992995]\n",
            "  [1.04930225 1.05075532 1.0488683  1.05194609 1.05194609 1.08773001]\n",
            "  [1.03233072 1.0252616  1.03427935 1.03429816 1.03429816 1.07922031]]\n",
            "\n",
            " [[1.         1.         1.         1.         1.         1.        ]\n",
            "  [1.01012578 1.00822583 0.99818886 0.9915069  0.9915069  1.04914602]\n",
            "  [1.00005419 0.99175798 0.97698092 0.9709761  0.9709761  1.01498057]\n",
            "  ...\n",
            "  [1.04062248 1.04500056 1.03351737 1.03782889 1.03782889 1.10195909]\n",
            "  [1.02379133 1.01964646 1.01914195 1.0204178  1.0204178  1.09333808]\n",
            "  [1.01906988 1.01280591 1.00777062 1.00154371 1.00154371 1.03966915]]]\n",
            "[0.95727056 0.94833197 0.98309918 0.9935981  1.0180062  1.04517679\n",
            " 0.99203907 0.96625797 0.9757607  0.95205899]\n"
          ]
        }
      ]
    },
    {
      "cell_type": "code",
      "source": [
        "from keras.models import Sequential\n",
        "from keras import layers\n",
        "\n",
        "model = Sequential()\n",
        "model.add(layers.GRU(16, input_shape=(None, train_data.shape[-1])))\n",
        "model.add(layers.Dense(1))\n",
        "model.compile(optimizer='RMSprop', loss='mae')\n",
        "history = model.fit_generator(train_gen, \n",
        "                            steps_per_epoch=500, epochs=20,\n",
        "                            validation_data=val_gen,\n",
        "                            validation_steps=val_steps)"
      ],
      "metadata": {
        "colab": {
          "base_uri": "https://localhost:8080/"
        },
        "id": "IyIPhpLG8K5M",
        "outputId": "4eb882f0-96ee-4fad-df82-b87ecb76e2f7"
      },
      "execution_count": 36,
      "outputs": [
        {
          "output_type": "stream",
          "name": "stdout",
          "text": [
            "Epoch 1/20\n"
          ]
        },
        {
          "output_type": "stream",
          "name": "stderr",
          "text": [
            "/usr/local/lib/python3.7/dist-packages/ipykernel_launcher.py:11: UserWarning: `Model.fit_generator` is deprecated and will be removed in a future version. Please use `Model.fit`, which supports generators.\n",
            "  # This is added back by InteractiveShellApp.init_path()\n"
          ]
        },
        {
          "output_type": "stream",
          "name": "stdout",
          "text": [
            "500/500 [==============================] - 7s 10ms/step - loss: 0.0450 - val_loss: 0.0362\n",
            "Epoch 2/20\n",
            "500/500 [==============================] - 4s 8ms/step - loss: 0.0367 - val_loss: 0.0325\n",
            "Epoch 3/20\n",
            "500/500 [==============================] - 4s 9ms/step - loss: 0.0395 - val_loss: 0.0387\n",
            "Epoch 4/20\n",
            "500/500 [==============================] - 4s 9ms/step - loss: 0.0369 - val_loss: 0.0400\n",
            "Epoch 5/20\n",
            "500/500 [==============================] - 4s 8ms/step - loss: 0.0358 - val_loss: 0.0318\n",
            "Epoch 6/20\n",
            "500/500 [==============================] - 4s 9ms/step - loss: 0.0369 - val_loss: 0.0329\n",
            "Epoch 7/20\n",
            "500/500 [==============================] - 4s 9ms/step - loss: 0.0367 - val_loss: 0.0604\n",
            "Epoch 8/20\n",
            "500/500 [==============================] - 5s 10ms/step - loss: 0.0383 - val_loss: 0.0502\n",
            "Epoch 9/20\n",
            "500/500 [==============================] - 4s 9ms/step - loss: 0.0357 - val_loss: 0.0245\n",
            "Epoch 10/20\n",
            "500/500 [==============================] - 4s 9ms/step - loss: 0.0395 - val_loss: 0.0204\n",
            "Epoch 11/20\n",
            "500/500 [==============================] - 4s 9ms/step - loss: 0.0371 - val_loss: 0.0747\n",
            "Epoch 12/20\n",
            "500/500 [==============================] - 4s 9ms/step - loss: 0.0353 - val_loss: 0.0241\n",
            "Epoch 13/20\n",
            "500/500 [==============================] - 4s 9ms/step - loss: 0.0359 - val_loss: 0.0433\n",
            "Epoch 14/20\n",
            "500/500 [==============================] - 6s 11ms/step - loss: 0.0363 - val_loss: 0.1515\n",
            "Epoch 15/20\n",
            "500/500 [==============================] - 4s 9ms/step - loss: 0.0379 - val_loss: 0.0235\n",
            "Epoch 16/20\n",
            "500/500 [==============================] - 4s 9ms/step - loss: 0.0348 - val_loss: 0.0226\n",
            "Epoch 17/20\n",
            "500/500 [==============================] - 4s 8ms/step - loss: 0.0387 - val_loss: 0.0255\n",
            "Epoch 18/20\n",
            "500/500 [==============================] - 4s 9ms/step - loss: 0.0364 - val_loss: 0.0220\n",
            "Epoch 19/20\n",
            "500/500 [==============================] - 4s 8ms/step - loss: 0.0347 - val_loss: 0.0361\n",
            "Epoch 20/20\n",
            "500/500 [==============================] - 4s 8ms/step - loss: 0.0353 - val_loss: 0.0265\n"
          ]
        }
      ]
    },
    {
      "cell_type": "code",
      "source": [
        "loss = history.history['loss']\n",
        "val_loss = history.history['val_loss']\n",
        "\n",
        "epochs = range(len(loss))\n",
        "\n",
        "plt.figure()\n",
        "\n",
        "plt.plot(epochs, loss, 'bo', label='Training loss')\n",
        "plt.plot(epochs, val_loss, 'b', label='Validation loss')\n",
        "plt.title('Training and validation loss')\n",
        "plt.legend()\n",
        "\n",
        "plt.show()"
      ],
      "metadata": {
        "colab": {
          "base_uri": "https://localhost:8080/",
          "height": 281
        },
        "id": "nXw_-k-k8j98",
        "outputId": "8ec5edd3-1fcf-4927-d178-e83593467445"
      },
      "execution_count": 37,
      "outputs": [
        {
          "output_type": "display_data",
          "data": {
            "text/plain": [
              "<Figure size 432x288 with 1 Axes>"
            ],
            "image/png": "[encoded data removed]"
          },
          "metadata": {
            "needs_background": "light"
          }
        }
      ]
    },
    {
      "cell_type": "code",
      "source": [
        "test_gen = generator(test_data,\n",
        "                      lookback=lookback,\n",
        "                      delay=delay,\n",
        "                      step=step, \n",
        "                      normalize=True,\n",
        "                      target_index = target_idx,\n",
        "                      batch_size=batch_size)"
      ],
      "metadata": {
        "id": "G2gYlv8t8qu-"
      },
      "execution_count": 38,
      "outputs": []
    },
    {
      "cell_type": "code",
      "source": [
        "model.evaluate_generator(test_gen, len(test_data))"
      ],
      "metadata": {
        "colab": {
          "base_uri": "https://localhost:8080/"
        },
        "id": "nJvBGrbc8urc",
        "outputId": "7e7e9342-765e-4df5-d5ef-df20ee1918c5"
      },
      "execution_count": 39,
      "outputs": [
        {
          "output_type": "stream",
          "name": "stderr",
          "text": [
            "/usr/local/lib/python3.7/dist-packages/ipykernel_launcher.py:1: UserWarning: `Model.evaluate_generator` is deprecated and will be removed in a future version. Please use `Model.evaluate`, which supports generators.\n",
            "  \"\"\"Entry point for launching an IPython kernel.\n"
          ]
        },
        {
          "output_type": "execute_result",
          "data": {
            "text/plain": [
              "0.055802520364522934"
            ]
          },
          "metadata": {},
          "execution_count": 39
        }
      ]
    },
    {
      "cell_type": "code",
      "source": [
        "# Predicting the price after 15 days\n",
        "prices = df.iloc[-lookback:].drop(columns=['Date']).to_numpy()\n",
        "x = prices / prices[0]\n",
        "price_sample = np.expand_dims(x, axis=0)\n",
        "pred = model.predict(price_sample)\n",
        "\n",
        "pred_price = pred[0][0]*prices[0][target_idx]\n",
        "\n",
        "print('The NASDAQ price for', str(delay) ,'trading days after ', df.iloc[-1]['Date'], ' is ' + str(pred_price))"
      ],
      "metadata": {
        "colab": {
          "base_uri": "https://localhost:8080/"
        },
        "id": "1d7oMuTr88ju",
        "outputId": "b2683e74-61f2-4fa0-f612-0ed15249afb1"
      },
      "execution_count": 41,
      "outputs": [
        {
          "output_type": "stream",
          "name": "stdout",
          "text": [
            "The NASDAQ price for 15 trading days after  2021-12-08  is 15802.35065435677\n"
          ]
        }
      ]
    },
    {
      "cell_type": "markdown",
      "source": [
        "expected value: 16000,  predicted value: 15802.35065435677"
      ],
      "metadata": {
        "id": "1hRHeqSQlvlt"
      }
    }
  ]
}